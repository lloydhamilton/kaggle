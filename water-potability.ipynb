{
 "cells": [
  {
   "cell_type": "markdown",
   "metadata": {},
   "source": [
    "# Introduction\n",
    "\n",
    "The access to safe drinking water is an important aspect of health, sanitation and hygiene. According to the World Health Organisation, some 2.2 billion people around the world do not have access to safe drinking water<sup>1</sup>. The investment in water supply and sanitation is important for public heath in preventing the spread of diseases and can yield a net economic benefit. Therefore, the development of technologies that can effectively identify safe drinking water will facilitate the deployment of solutions that will alleviate water shortages.   \n",
    "\n",
    "<sup>1</sup> https://www.who.int/news/item/18-06-2019-1-in-3-people-globally-do-not-have-access-to-safe-drinking-water-unicef-who\n",
    "\n",
    "## Dataset\n",
    "\n",
    "The [`water_potability.csv`] dataset contains 10 different water quality metrics for 3276 different water bodies. Linked [here](https://www.kaggle.com/adityakadiwal/water-potability).\n",
    "\n",
    "## Task\n",
    "\n",
    "The task is to create a model to determine if the sample tested from the water body is fit for human consumption.\n"
   ]
  },
  {
   "cell_type": "markdown",
   "metadata": {},
   "source": [
    "# Data Exploration"
   ]
  },
  {
   "cell_type": "code",
   "execution_count": 1,
   "metadata": {
    "execution": {
     "iopub.execute_input": "2021-08-05T09:46:05.878852Z",
     "iopub.status.busy": "2021-08-05T09:46:05.878408Z",
     "iopub.status.idle": "2021-08-05T09:46:05.908688Z",
     "shell.execute_reply": "2021-08-05T09:46:05.907683Z",
     "shell.execute_reply.started": "2021-08-05T09:46:05.878817Z"
    }
   },
   "outputs": [
    {
     "name": "stdout",
     "output_type": "stream",
     "text": [
      "<class 'pandas.core.frame.DataFrame'>\n",
      "RangeIndex: 3276 entries, 0 to 3275\n",
      "Data columns (total 10 columns):\n",
      " #   Column           Non-Null Count  Dtype  \n",
      "---  ------           --------------  -----  \n",
      " 0   ph               2785 non-null   float64\n",
      " 1   Hardness         3276 non-null   float64\n",
      " 2   Solids           3276 non-null   float64\n",
      " 3   Chloramines      3276 non-null   float64\n",
      " 4   Sulfate          2495 non-null   float64\n",
      " 5   Conductivity     3276 non-null   float64\n",
      " 6   Organic_carbon   3276 non-null   float64\n",
      " 7   Trihalomethanes  3114 non-null   float64\n",
      " 8   Turbidity        3276 non-null   float64\n",
      " 9   Potability       3276 non-null   int64  \n",
      "dtypes: float64(9), int64(1)\n",
      "memory usage: 256.1 KB\n"
     ]
    }
   ],
   "source": [
    "# Read in data\n",
    "import pandas as pd\n",
    "\n",
    "water_quality = pd.read_csv('~/kaggle/input/water_potability.csv')\n",
    "water_quality.info()"
   ]
  },
  {
   "cell_type": "code",
   "execution_count": 2,
   "metadata": {
    "execution": {
     "iopub.execute_input": "2021-08-05T09:46:06.085311Z",
     "iopub.status.busy": "2021-08-05T09:46:06.084771Z",
     "iopub.status.idle": "2021-08-05T09:46:06.110824Z",
     "shell.execute_reply": "2021-08-05T09:46:06.109885Z",
     "shell.execute_reply.started": "2021-08-05T09:46:06.08526Z"
    }
   },
   "outputs": [
    {
     "data": {
      "text/html": [
       "<div>\n",
       "<style scoped>\n",
       "    .dataframe tbody tr th:only-of-type {\n",
       "        vertical-align: middle;\n",
       "    }\n",
       "\n",
       "    .dataframe tbody tr th {\n",
       "        vertical-align: top;\n",
       "    }\n",
       "\n",
       "    .dataframe thead th {\n",
       "        text-align: right;\n",
       "    }\n",
       "</style>\n",
       "<table border=\"1\" class=\"dataframe\">\n",
       "  <thead>\n",
       "    <tr style=\"text-align: right;\">\n",
       "      <th></th>\n",
       "      <th>ph</th>\n",
       "      <th>Hardness</th>\n",
       "      <th>Solids</th>\n",
       "      <th>Chloramines</th>\n",
       "      <th>Sulfate</th>\n",
       "      <th>Conductivity</th>\n",
       "      <th>Organic_carbon</th>\n",
       "      <th>Trihalomethanes</th>\n",
       "      <th>Turbidity</th>\n",
       "      <th>Potability</th>\n",
       "    </tr>\n",
       "  </thead>\n",
       "  <tbody>\n",
       "    <tr>\n",
       "      <th>0</th>\n",
       "      <td>NaN</td>\n",
       "      <td>204.890455</td>\n",
       "      <td>20791.318981</td>\n",
       "      <td>7.300212</td>\n",
       "      <td>368.516441</td>\n",
       "      <td>564.308654</td>\n",
       "      <td>10.379783</td>\n",
       "      <td>86.990970</td>\n",
       "      <td>2.963135</td>\n",
       "      <td>0</td>\n",
       "    </tr>\n",
       "    <tr>\n",
       "      <th>1</th>\n",
       "      <td>3.716080</td>\n",
       "      <td>129.422921</td>\n",
       "      <td>18630.057858</td>\n",
       "      <td>6.635246</td>\n",
       "      <td>NaN</td>\n",
       "      <td>592.885359</td>\n",
       "      <td>15.180013</td>\n",
       "      <td>56.329076</td>\n",
       "      <td>4.500656</td>\n",
       "      <td>0</td>\n",
       "    </tr>\n",
       "    <tr>\n",
       "      <th>2</th>\n",
       "      <td>8.099124</td>\n",
       "      <td>224.236259</td>\n",
       "      <td>19909.541732</td>\n",
       "      <td>9.275884</td>\n",
       "      <td>NaN</td>\n",
       "      <td>418.606213</td>\n",
       "      <td>16.868637</td>\n",
       "      <td>66.420093</td>\n",
       "      <td>3.055934</td>\n",
       "      <td>0</td>\n",
       "    </tr>\n",
       "    <tr>\n",
       "      <th>3</th>\n",
       "      <td>8.316766</td>\n",
       "      <td>214.373394</td>\n",
       "      <td>22018.417441</td>\n",
       "      <td>8.059332</td>\n",
       "      <td>356.886136</td>\n",
       "      <td>363.266516</td>\n",
       "      <td>18.436524</td>\n",
       "      <td>100.341674</td>\n",
       "      <td>4.628771</td>\n",
       "      <td>0</td>\n",
       "    </tr>\n",
       "    <tr>\n",
       "      <th>4</th>\n",
       "      <td>9.092223</td>\n",
       "      <td>181.101509</td>\n",
       "      <td>17978.986339</td>\n",
       "      <td>6.546600</td>\n",
       "      <td>310.135738</td>\n",
       "      <td>398.410813</td>\n",
       "      <td>11.558279</td>\n",
       "      <td>31.997993</td>\n",
       "      <td>4.075075</td>\n",
       "      <td>0</td>\n",
       "    </tr>\n",
       "    <tr>\n",
       "      <th>...</th>\n",
       "      <td>...</td>\n",
       "      <td>...</td>\n",
       "      <td>...</td>\n",
       "      <td>...</td>\n",
       "      <td>...</td>\n",
       "      <td>...</td>\n",
       "      <td>...</td>\n",
       "      <td>...</td>\n",
       "      <td>...</td>\n",
       "      <td>...</td>\n",
       "    </tr>\n",
       "    <tr>\n",
       "      <th>3271</th>\n",
       "      <td>4.668102</td>\n",
       "      <td>193.681735</td>\n",
       "      <td>47580.991603</td>\n",
       "      <td>7.166639</td>\n",
       "      <td>359.948574</td>\n",
       "      <td>526.424171</td>\n",
       "      <td>13.894419</td>\n",
       "      <td>66.687695</td>\n",
       "      <td>4.435821</td>\n",
       "      <td>1</td>\n",
       "    </tr>\n",
       "    <tr>\n",
       "      <th>3272</th>\n",
       "      <td>7.808856</td>\n",
       "      <td>193.553212</td>\n",
       "      <td>17329.802160</td>\n",
       "      <td>8.061362</td>\n",
       "      <td>NaN</td>\n",
       "      <td>392.449580</td>\n",
       "      <td>19.903225</td>\n",
       "      <td>NaN</td>\n",
       "      <td>2.798243</td>\n",
       "      <td>1</td>\n",
       "    </tr>\n",
       "    <tr>\n",
       "      <th>3273</th>\n",
       "      <td>9.419510</td>\n",
       "      <td>175.762646</td>\n",
       "      <td>33155.578218</td>\n",
       "      <td>7.350233</td>\n",
       "      <td>NaN</td>\n",
       "      <td>432.044783</td>\n",
       "      <td>11.039070</td>\n",
       "      <td>69.845400</td>\n",
       "      <td>3.298875</td>\n",
       "      <td>1</td>\n",
       "    </tr>\n",
       "    <tr>\n",
       "      <th>3274</th>\n",
       "      <td>5.126763</td>\n",
       "      <td>230.603758</td>\n",
       "      <td>11983.869376</td>\n",
       "      <td>6.303357</td>\n",
       "      <td>NaN</td>\n",
       "      <td>402.883113</td>\n",
       "      <td>11.168946</td>\n",
       "      <td>77.488213</td>\n",
       "      <td>4.708658</td>\n",
       "      <td>1</td>\n",
       "    </tr>\n",
       "    <tr>\n",
       "      <th>3275</th>\n",
       "      <td>7.874671</td>\n",
       "      <td>195.102299</td>\n",
       "      <td>17404.177061</td>\n",
       "      <td>7.509306</td>\n",
       "      <td>NaN</td>\n",
       "      <td>327.459760</td>\n",
       "      <td>16.140368</td>\n",
       "      <td>78.698446</td>\n",
       "      <td>2.309149</td>\n",
       "      <td>1</td>\n",
       "    </tr>\n",
       "  </tbody>\n",
       "</table>\n",
       "<p>3276 rows × 10 columns</p>\n",
       "</div>"
      ],
      "text/plain": [
       "            ph    Hardness        Solids  Chloramines     Sulfate  \\\n",
       "0          NaN  204.890455  20791.318981     7.300212  368.516441   \n",
       "1     3.716080  129.422921  18630.057858     6.635246         NaN   \n",
       "2     8.099124  224.236259  19909.541732     9.275884         NaN   \n",
       "3     8.316766  214.373394  22018.417441     8.059332  356.886136   \n",
       "4     9.092223  181.101509  17978.986339     6.546600  310.135738   \n",
       "...        ...         ...           ...          ...         ...   \n",
       "3271  4.668102  193.681735  47580.991603     7.166639  359.948574   \n",
       "3272  7.808856  193.553212  17329.802160     8.061362         NaN   \n",
       "3273  9.419510  175.762646  33155.578218     7.350233         NaN   \n",
       "3274  5.126763  230.603758  11983.869376     6.303357         NaN   \n",
       "3275  7.874671  195.102299  17404.177061     7.509306         NaN   \n",
       "\n",
       "      Conductivity  Organic_carbon  Trihalomethanes  Turbidity Potability  \n",
       "0       564.308654       10.379783        86.990970   2.963135          0  \n",
       "1       592.885359       15.180013        56.329076   4.500656          0  \n",
       "2       418.606213       16.868637        66.420093   3.055934          0  \n",
       "3       363.266516       18.436524       100.341674   4.628771          0  \n",
       "4       398.410813       11.558279        31.997993   4.075075          0  \n",
       "...            ...             ...              ...        ...        ...  \n",
       "3271    526.424171       13.894419        66.687695   4.435821          1  \n",
       "3272    392.449580       19.903225              NaN   2.798243          1  \n",
       "3273    432.044783       11.039070        69.845400   3.298875          1  \n",
       "3274    402.883113       11.168946        77.488213   4.708658          1  \n",
       "3275    327.459760       16.140368        78.698446   2.309149          1  \n",
       "\n",
       "[3276 rows x 10 columns]"
      ]
     },
     "execution_count": 2,
     "metadata": {},
     "output_type": "execute_result"
    }
   ],
   "source": [
    "water_quality[\"Potability\"] = water_quality[\"Potability\"].astype(\"category\")\n",
    "water_quality"
   ]
  },
  {
   "cell_type": "code",
   "execution_count": 3,
   "metadata": {
    "execution": {
     "iopub.execute_input": "2021-08-05T09:46:06.333954Z",
     "iopub.status.busy": "2021-08-05T09:46:06.333563Z",
     "iopub.status.idle": "2021-08-05T09:46:06.372022Z",
     "shell.execute_reply": "2021-08-05T09:46:06.371058Z",
     "shell.execute_reply.started": "2021-08-05T09:46:06.333918Z"
    }
   },
   "outputs": [
    {
     "data": {
      "text/html": [
       "<div>\n",
       "<style scoped>\n",
       "    .dataframe tbody tr th:only-of-type {\n",
       "        vertical-align: middle;\n",
       "    }\n",
       "\n",
       "    .dataframe tbody tr th {\n",
       "        vertical-align: top;\n",
       "    }\n",
       "\n",
       "    .dataframe thead th {\n",
       "        text-align: right;\n",
       "    }\n",
       "</style>\n",
       "<table border=\"1\" class=\"dataframe\">\n",
       "  <thead>\n",
       "    <tr style=\"text-align: right;\">\n",
       "      <th></th>\n",
       "      <th>ph</th>\n",
       "      <th>Hardness</th>\n",
       "      <th>Solids</th>\n",
       "      <th>Chloramines</th>\n",
       "      <th>Sulfate</th>\n",
       "      <th>Conductivity</th>\n",
       "      <th>Organic_carbon</th>\n",
       "      <th>Trihalomethanes</th>\n",
       "      <th>Turbidity</th>\n",
       "    </tr>\n",
       "  </thead>\n",
       "  <tbody>\n",
       "    <tr>\n",
       "      <th>count</th>\n",
       "      <td>2785.000000</td>\n",
       "      <td>3276.000000</td>\n",
       "      <td>3276.000000</td>\n",
       "      <td>3276.000000</td>\n",
       "      <td>2495.000000</td>\n",
       "      <td>3276.000000</td>\n",
       "      <td>3276.000000</td>\n",
       "      <td>3114.000000</td>\n",
       "      <td>3276.000000</td>\n",
       "    </tr>\n",
       "    <tr>\n",
       "      <th>mean</th>\n",
       "      <td>7.080795</td>\n",
       "      <td>196.369496</td>\n",
       "      <td>22014.092526</td>\n",
       "      <td>7.122277</td>\n",
       "      <td>333.775777</td>\n",
       "      <td>426.205111</td>\n",
       "      <td>14.284970</td>\n",
       "      <td>66.396293</td>\n",
       "      <td>3.966786</td>\n",
       "    </tr>\n",
       "    <tr>\n",
       "      <th>std</th>\n",
       "      <td>1.594320</td>\n",
       "      <td>32.879761</td>\n",
       "      <td>8768.570828</td>\n",
       "      <td>1.583085</td>\n",
       "      <td>41.416840</td>\n",
       "      <td>80.824064</td>\n",
       "      <td>3.308162</td>\n",
       "      <td>16.175008</td>\n",
       "      <td>0.780382</td>\n",
       "    </tr>\n",
       "    <tr>\n",
       "      <th>min</th>\n",
       "      <td>0.000000</td>\n",
       "      <td>47.432000</td>\n",
       "      <td>320.942611</td>\n",
       "      <td>0.352000</td>\n",
       "      <td>129.000000</td>\n",
       "      <td>181.483754</td>\n",
       "      <td>2.200000</td>\n",
       "      <td>0.738000</td>\n",
       "      <td>1.450000</td>\n",
       "    </tr>\n",
       "    <tr>\n",
       "      <th>25%</th>\n",
       "      <td>6.093092</td>\n",
       "      <td>176.850538</td>\n",
       "      <td>15666.690297</td>\n",
       "      <td>6.127421</td>\n",
       "      <td>307.699498</td>\n",
       "      <td>365.734414</td>\n",
       "      <td>12.065801</td>\n",
       "      <td>55.844536</td>\n",
       "      <td>3.439711</td>\n",
       "    </tr>\n",
       "    <tr>\n",
       "      <th>50%</th>\n",
       "      <td>7.036752</td>\n",
       "      <td>196.967627</td>\n",
       "      <td>20927.833607</td>\n",
       "      <td>7.130299</td>\n",
       "      <td>333.073546</td>\n",
       "      <td>421.884968</td>\n",
       "      <td>14.218338</td>\n",
       "      <td>66.622485</td>\n",
       "      <td>3.955028</td>\n",
       "    </tr>\n",
       "    <tr>\n",
       "      <th>75%</th>\n",
       "      <td>8.062066</td>\n",
       "      <td>216.667456</td>\n",
       "      <td>27332.762127</td>\n",
       "      <td>8.114887</td>\n",
       "      <td>359.950170</td>\n",
       "      <td>481.792304</td>\n",
       "      <td>16.557652</td>\n",
       "      <td>77.337473</td>\n",
       "      <td>4.500320</td>\n",
       "    </tr>\n",
       "    <tr>\n",
       "      <th>max</th>\n",
       "      <td>14.000000</td>\n",
       "      <td>323.124000</td>\n",
       "      <td>61227.196008</td>\n",
       "      <td>13.127000</td>\n",
       "      <td>481.030642</td>\n",
       "      <td>753.342620</td>\n",
       "      <td>28.300000</td>\n",
       "      <td>124.000000</td>\n",
       "      <td>6.739000</td>\n",
       "    </tr>\n",
       "  </tbody>\n",
       "</table>\n",
       "</div>"
      ],
      "text/plain": [
       "                ph     Hardness        Solids  Chloramines      Sulfate  \\\n",
       "count  2785.000000  3276.000000   3276.000000  3276.000000  2495.000000   \n",
       "mean      7.080795   196.369496  22014.092526     7.122277   333.775777   \n",
       "std       1.594320    32.879761   8768.570828     1.583085    41.416840   \n",
       "min       0.000000    47.432000    320.942611     0.352000   129.000000   \n",
       "25%       6.093092   176.850538  15666.690297     6.127421   307.699498   \n",
       "50%       7.036752   196.967627  20927.833607     7.130299   333.073546   \n",
       "75%       8.062066   216.667456  27332.762127     8.114887   359.950170   \n",
       "max      14.000000   323.124000  61227.196008    13.127000   481.030642   \n",
       "\n",
       "       Conductivity  Organic_carbon  Trihalomethanes    Turbidity  \n",
       "count   3276.000000     3276.000000      3114.000000  3276.000000  \n",
       "mean     426.205111       14.284970        66.396293     3.966786  \n",
       "std       80.824064        3.308162        16.175008     0.780382  \n",
       "min      181.483754        2.200000         0.738000     1.450000  \n",
       "25%      365.734414       12.065801        55.844536     3.439711  \n",
       "50%      421.884968       14.218338        66.622485     3.955028  \n",
       "75%      481.792304       16.557652        77.337473     4.500320  \n",
       "max      753.342620       28.300000       124.000000     6.739000  "
      ]
     },
     "execution_count": 3,
     "metadata": {},
     "output_type": "execute_result"
    }
   ],
   "source": [
    "water_quality.describe()"
   ]
  },
  {
   "cell_type": "code",
   "execution_count": 4,
   "metadata": {
    "execution": {
     "iopub.execute_input": "2021-08-05T09:46:06.374149Z",
     "iopub.status.busy": "2021-08-05T09:46:06.373754Z",
     "iopub.status.idle": "2021-08-05T09:46:06.383486Z",
     "shell.execute_reply": "2021-08-05T09:46:06.38244Z",
     "shell.execute_reply.started": "2021-08-05T09:46:06.37411Z"
    }
   },
   "outputs": [
    {
     "data": {
      "text/plain": [
       "ph                 491\n",
       "Hardness             0\n",
       "Solids               0\n",
       "Chloramines          0\n",
       "Sulfate            781\n",
       "Conductivity         0\n",
       "Organic_carbon       0\n",
       "Trihalomethanes    162\n",
       "Turbidity            0\n",
       "Potability           0\n",
       "dtype: int64"
      ]
     },
     "execution_count": 4,
     "metadata": {},
     "output_type": "execute_result"
    }
   ],
   "source": [
    "water_quality.isna().sum()"
   ]
  },
  {
   "cell_type": "markdown",
   "metadata": {},
   "source": [
    "Counts are different indicating there are 491, 781, 162 NA's in `ph`, `Sulfate` and `Trihalomethanes` respectively."
   ]
  },
  {
   "cell_type": "code",
   "execution_count": 5,
   "metadata": {
    "execution": {
     "iopub.execute_input": "2021-08-05T09:46:06.572775Z",
     "iopub.status.busy": "2021-08-05T09:46:06.572395Z",
     "iopub.status.idle": "2021-08-05T09:46:06.613876Z",
     "shell.execute_reply": "2021-08-05T09:46:06.61295Z",
     "shell.execute_reply.started": "2021-08-05T09:46:06.572745Z"
    }
   },
   "outputs": [
    {
     "data": {
      "text/html": [
       "<div>\n",
       "<style scoped>\n",
       "    .dataframe tbody tr th:only-of-type {\n",
       "        vertical-align: middle;\n",
       "    }\n",
       "\n",
       "    .dataframe tbody tr th {\n",
       "        vertical-align: top;\n",
       "    }\n",
       "\n",
       "    .dataframe thead th {\n",
       "        text-align: right;\n",
       "    }\n",
       "</style>\n",
       "<table border=\"1\" class=\"dataframe\">\n",
       "  <thead>\n",
       "    <tr style=\"text-align: right;\">\n",
       "      <th></th>\n",
       "      <th>ph</th>\n",
       "      <th>Hardness</th>\n",
       "      <th>Solids</th>\n",
       "      <th>Chloramines</th>\n",
       "      <th>Sulfate</th>\n",
       "      <th>Conductivity</th>\n",
       "      <th>Organic_carbon</th>\n",
       "      <th>Trihalomethanes</th>\n",
       "      <th>Turbidity</th>\n",
       "    </tr>\n",
       "  </thead>\n",
       "  <tbody>\n",
       "    <tr>\n",
       "      <th>count</th>\n",
       "      <td>1101.000000</td>\n",
       "      <td>1278.000000</td>\n",
       "      <td>1278.000000</td>\n",
       "      <td>1278.000000</td>\n",
       "      <td>985.000000</td>\n",
       "      <td>1278.000000</td>\n",
       "      <td>1278.000000</td>\n",
       "      <td>1223.000000</td>\n",
       "      <td>1278.000000</td>\n",
       "    </tr>\n",
       "    <tr>\n",
       "      <th>mean</th>\n",
       "      <td>7.073783</td>\n",
       "      <td>195.800744</td>\n",
       "      <td>22383.991018</td>\n",
       "      <td>7.169338</td>\n",
       "      <td>332.566990</td>\n",
       "      <td>425.383800</td>\n",
       "      <td>14.160893</td>\n",
       "      <td>66.539684</td>\n",
       "      <td>3.968328</td>\n",
       "    </tr>\n",
       "    <tr>\n",
       "      <th>std</th>\n",
       "      <td>1.448048</td>\n",
       "      <td>35.547041</td>\n",
       "      <td>9101.010208</td>\n",
       "      <td>1.702988</td>\n",
       "      <td>47.692818</td>\n",
       "      <td>82.048446</td>\n",
       "      <td>3.263907</td>\n",
       "      <td>16.327419</td>\n",
       "      <td>0.780842</td>\n",
       "    </tr>\n",
       "    <tr>\n",
       "      <th>min</th>\n",
       "      <td>0.227499</td>\n",
       "      <td>47.432000</td>\n",
       "      <td>728.750830</td>\n",
       "      <td>0.352000</td>\n",
       "      <td>129.000000</td>\n",
       "      <td>201.619737</td>\n",
       "      <td>2.200000</td>\n",
       "      <td>8.175876</td>\n",
       "      <td>1.492207</td>\n",
       "    </tr>\n",
       "    <tr>\n",
       "      <th>25%</th>\n",
       "      <td>6.179312</td>\n",
       "      <td>174.330531</td>\n",
       "      <td>15668.985035</td>\n",
       "      <td>6.094134</td>\n",
       "      <td>300.763772</td>\n",
       "      <td>360.939023</td>\n",
       "      <td>12.033897</td>\n",
       "      <td>56.014249</td>\n",
       "      <td>3.430909</td>\n",
       "    </tr>\n",
       "    <tr>\n",
       "      <th>50%</th>\n",
       "      <td>7.036752</td>\n",
       "      <td>196.632907</td>\n",
       "      <td>21199.386614</td>\n",
       "      <td>7.215163</td>\n",
       "      <td>331.838167</td>\n",
       "      <td>420.712729</td>\n",
       "      <td>14.162809</td>\n",
       "      <td>66.678214</td>\n",
       "      <td>3.958576</td>\n",
       "    </tr>\n",
       "    <tr>\n",
       "      <th>75%</th>\n",
       "      <td>7.933068</td>\n",
       "      <td>218.003420</td>\n",
       "      <td>27973.236446</td>\n",
       "      <td>8.199261</td>\n",
       "      <td>365.941346</td>\n",
       "      <td>484.155911</td>\n",
       "      <td>16.356245</td>\n",
       "      <td>77.380975</td>\n",
       "      <td>4.509569</td>\n",
       "    </tr>\n",
       "    <tr>\n",
       "      <th>max</th>\n",
       "      <td>13.175402</td>\n",
       "      <td>323.124000</td>\n",
       "      <td>56488.672413</td>\n",
       "      <td>13.127000</td>\n",
       "      <td>481.030642</td>\n",
       "      <td>695.369528</td>\n",
       "      <td>23.604298</td>\n",
       "      <td>124.000000</td>\n",
       "      <td>6.494249</td>\n",
       "    </tr>\n",
       "  </tbody>\n",
       "</table>\n",
       "</div>"
      ],
      "text/plain": [
       "                ph     Hardness        Solids  Chloramines     Sulfate  \\\n",
       "count  1101.000000  1278.000000   1278.000000  1278.000000  985.000000   \n",
       "mean      7.073783   195.800744  22383.991018     7.169338  332.566990   \n",
       "std       1.448048    35.547041   9101.010208     1.702988   47.692818   \n",
       "min       0.227499    47.432000    728.750830     0.352000  129.000000   \n",
       "25%       6.179312   174.330531  15668.985035     6.094134  300.763772   \n",
       "50%       7.036752   196.632907  21199.386614     7.215163  331.838167   \n",
       "75%       7.933068   218.003420  27973.236446     8.199261  365.941346   \n",
       "max      13.175402   323.124000  56488.672413    13.127000  481.030642   \n",
       "\n",
       "       Conductivity  Organic_carbon  Trihalomethanes    Turbidity  \n",
       "count   1278.000000     1278.000000      1223.000000  1278.000000  \n",
       "mean     425.383800       14.160893        66.539684     3.968328  \n",
       "std       82.048446        3.263907        16.327419     0.780842  \n",
       "min      201.619737        2.200000         8.175876     1.492207  \n",
       "25%      360.939023       12.033897        56.014249     3.430909  \n",
       "50%      420.712729       14.162809        66.678214     3.958576  \n",
       "75%      484.155911       16.356245        77.380975     4.509569  \n",
       "max      695.369528       23.604298       124.000000     6.494249  "
      ]
     },
     "execution_count": 5,
     "metadata": {},
     "output_type": "execute_result"
    }
   ],
   "source": [
    "water_quality.loc[water_quality[\"Potability\"] == 1].describe()"
   ]
  },
  {
   "cell_type": "code",
   "execution_count": 6,
   "metadata": {
    "execution": {
     "iopub.execute_input": "2021-08-05T09:46:06.755356Z",
     "iopub.status.busy": "2021-08-05T09:46:06.754962Z",
     "iopub.status.idle": "2021-08-05T09:46:06.795429Z",
     "shell.execute_reply": "2021-08-05T09:46:06.794479Z",
     "shell.execute_reply.started": "2021-08-05T09:46:06.755321Z"
    }
   },
   "outputs": [
    {
     "data": {
      "text/html": [
       "<div>\n",
       "<style scoped>\n",
       "    .dataframe tbody tr th:only-of-type {\n",
       "        vertical-align: middle;\n",
       "    }\n",
       "\n",
       "    .dataframe tbody tr th {\n",
       "        vertical-align: top;\n",
       "    }\n",
       "\n",
       "    .dataframe thead th {\n",
       "        text-align: right;\n",
       "    }\n",
       "</style>\n",
       "<table border=\"1\" class=\"dataframe\">\n",
       "  <thead>\n",
       "    <tr style=\"text-align: right;\">\n",
       "      <th></th>\n",
       "      <th>ph</th>\n",
       "      <th>Hardness</th>\n",
       "      <th>Solids</th>\n",
       "      <th>Chloramines</th>\n",
       "      <th>Sulfate</th>\n",
       "      <th>Conductivity</th>\n",
       "      <th>Organic_carbon</th>\n",
       "      <th>Trihalomethanes</th>\n",
       "      <th>Turbidity</th>\n",
       "    </tr>\n",
       "  </thead>\n",
       "  <tbody>\n",
       "    <tr>\n",
       "      <th>count</th>\n",
       "      <td>1684.000000</td>\n",
       "      <td>1998.000000</td>\n",
       "      <td>1998.000000</td>\n",
       "      <td>1998.000000</td>\n",
       "      <td>1510.000000</td>\n",
       "      <td>1998.000000</td>\n",
       "      <td>1998.000000</td>\n",
       "      <td>1891.000000</td>\n",
       "      <td>1998.000000</td>\n",
       "    </tr>\n",
       "    <tr>\n",
       "      <th>mean</th>\n",
       "      <td>7.085378</td>\n",
       "      <td>196.733292</td>\n",
       "      <td>21777.490788</td>\n",
       "      <td>7.092175</td>\n",
       "      <td>334.564290</td>\n",
       "      <td>426.730454</td>\n",
       "      <td>14.364335</td>\n",
       "      <td>66.303555</td>\n",
       "      <td>3.965800</td>\n",
       "    </tr>\n",
       "    <tr>\n",
       "      <th>std</th>\n",
       "      <td>1.683499</td>\n",
       "      <td>31.057540</td>\n",
       "      <td>8543.068788</td>\n",
       "      <td>1.501045</td>\n",
       "      <td>36.745549</td>\n",
       "      <td>80.047317</td>\n",
       "      <td>3.334554</td>\n",
       "      <td>16.079320</td>\n",
       "      <td>0.780282</td>\n",
       "    </tr>\n",
       "    <tr>\n",
       "      <th>min</th>\n",
       "      <td>0.000000</td>\n",
       "      <td>98.452931</td>\n",
       "      <td>320.942611</td>\n",
       "      <td>1.683993</td>\n",
       "      <td>203.444521</td>\n",
       "      <td>181.483754</td>\n",
       "      <td>4.371899</td>\n",
       "      <td>0.738000</td>\n",
       "      <td>1.450000</td>\n",
       "    </tr>\n",
       "    <tr>\n",
       "      <th>25%</th>\n",
       "      <td>6.037723</td>\n",
       "      <td>177.823265</td>\n",
       "      <td>15663.057382</td>\n",
       "      <td>6.155640</td>\n",
       "      <td>311.264006</td>\n",
       "      <td>368.498530</td>\n",
       "      <td>12.101057</td>\n",
       "      <td>55.706530</td>\n",
       "      <td>3.444062</td>\n",
       "    </tr>\n",
       "    <tr>\n",
       "      <th>50%</th>\n",
       "      <td>7.035456</td>\n",
       "      <td>197.123423</td>\n",
       "      <td>20809.618280</td>\n",
       "      <td>7.090334</td>\n",
       "      <td>333.389426</td>\n",
       "      <td>422.229331</td>\n",
       "      <td>14.293508</td>\n",
       "      <td>66.542198</td>\n",
       "      <td>3.948076</td>\n",
       "    </tr>\n",
       "    <tr>\n",
       "      <th>75%</th>\n",
       "      <td>8.155510</td>\n",
       "      <td>216.120687</td>\n",
       "      <td>27006.249009</td>\n",
       "      <td>8.066462</td>\n",
       "      <td>356.853897</td>\n",
       "      <td>480.677198</td>\n",
       "      <td>16.649485</td>\n",
       "      <td>77.277704</td>\n",
       "      <td>4.496106</td>\n",
       "    </tr>\n",
       "    <tr>\n",
       "      <th>max</th>\n",
       "      <td>14.000000</td>\n",
       "      <td>304.235912</td>\n",
       "      <td>61227.196008</td>\n",
       "      <td>12.653362</td>\n",
       "      <td>460.107069</td>\n",
       "      <td>753.342620</td>\n",
       "      <td>28.300000</td>\n",
       "      <td>120.030077</td>\n",
       "      <td>6.739000</td>\n",
       "    </tr>\n",
       "  </tbody>\n",
       "</table>\n",
       "</div>"
      ],
      "text/plain": [
       "                ph     Hardness        Solids  Chloramines      Sulfate  \\\n",
       "count  1684.000000  1998.000000   1998.000000  1998.000000  1510.000000   \n",
       "mean      7.085378   196.733292  21777.490788     7.092175   334.564290   \n",
       "std       1.683499    31.057540   8543.068788     1.501045    36.745549   \n",
       "min       0.000000    98.452931    320.942611     1.683993   203.444521   \n",
       "25%       6.037723   177.823265  15663.057382     6.155640   311.264006   \n",
       "50%       7.035456   197.123423  20809.618280     7.090334   333.389426   \n",
       "75%       8.155510   216.120687  27006.249009     8.066462   356.853897   \n",
       "max      14.000000   304.235912  61227.196008    12.653362   460.107069   \n",
       "\n",
       "       Conductivity  Organic_carbon  Trihalomethanes    Turbidity  \n",
       "count   1998.000000     1998.000000      1891.000000  1998.000000  \n",
       "mean     426.730454       14.364335        66.303555     3.965800  \n",
       "std       80.047317        3.334554        16.079320     0.780282  \n",
       "min      181.483754        4.371899         0.738000     1.450000  \n",
       "25%      368.498530       12.101057        55.706530     3.444062  \n",
       "50%      422.229331       14.293508        66.542198     3.948076  \n",
       "75%      480.677198       16.649485        77.277704     4.496106  \n",
       "max      753.342620       28.300000       120.030077     6.739000  "
      ]
     },
     "execution_count": 6,
     "metadata": {},
     "output_type": "execute_result"
    }
   ],
   "source": [
    "water_quality.loc[water_quality[\"Potability\"] == 0].describe()"
   ]
  },
  {
   "cell_type": "markdown",
   "metadata": {},
   "source": [
    "## Data distribution"
   ]
  },
  {
   "cell_type": "code",
   "execution_count": 7,
   "metadata": {
    "execution": {
     "iopub.execute_input": "2021-08-05T09:46:06.79711Z",
     "iopub.status.busy": "2021-08-05T09:46:06.796816Z",
     "iopub.status.idle": "2021-08-05T09:46:09.355536Z",
     "shell.execute_reply": "2021-08-05T09:46:09.354816Z",
     "shell.execute_reply.started": "2021-08-05T09:46:06.797082Z"
    }
   },
   "outputs": [
    {
     "data": {
      "text/plain": [
       "Text(0.5, 0.98, 'Water Quality Distribution plots')"
      ]
     },
     "execution_count": 7,
     "metadata": {},
     "output_type": "execute_result"
    },
    {
     "data": {
      "image/png": "[encoded data removed]",
      "text/plain": [
       "<Figure size 432x288 with 1 Axes>"
      ]
     },
     "metadata": {
      "needs_background": "light"
     },
     "output_type": "display_data"
    },
    {
     "data": {
      "image/png": "[encoded data removed]",
      "text/plain": [
       "<Figure size 1440x720 with 9 Axes>"
      ]
     },
     "metadata": {
      "needs_background": "light"
     },
     "output_type": "display_data"
    }
   ],
   "source": [
    "import matplotlib.pyplot as plt\n",
    "potability = water_quality[\"Potability\"].hist()\n",
    "potability.set_title(\"Potability\")\n",
    "water_quality.hist(bins = 50, figsize = (20, 10))\n",
    "plt.show\n",
    "plt.suptitle(\"Water Quality Distribution plots\", fontsize = 25)"
   ]
  },
  {
   "cell_type": "markdown",
   "metadata": {},
   "source": [
    "Overall the data looks fairly normally distributed. Data in the solids are slightly right skewed but still relatively normally distributed. The histogram of potability indicated an unbalanced dataset which may bias the model."
   ]
  },
  {
   "cell_type": "markdown",
   "metadata": {},
   "source": [
    "# Data Prep for ML\n",
    "## Splitting datasets into train and test set\n",
    "\n",
    "* Stratify the dataset to split into training and testing set.\n",
    "* Training dataset is up-sampled to address the imbalance in the potability dataset. This should address potential bias in the model as a result of imbalanced training dataset."
   ]
  },
  {
   "cell_type": "code",
   "execution_count": 8,
   "metadata": {
    "execution": {
     "iopub.execute_input": "2021-08-05T09:46:09.357364Z",
     "iopub.status.busy": "2021-08-05T09:46:09.356964Z",
     "iopub.status.idle": "2021-08-05T09:46:09.5887Z",
     "shell.execute_reply": "2021-08-05T09:46:09.587952Z",
     "shell.execute_reply.started": "2021-08-05T09:46:09.357324Z"
    }
   },
   "outputs": [
    {
     "data": {
      "text/html": [
       "<div>\n",
       "<style scoped>\n",
       "    .dataframe tbody tr th:only-of-type {\n",
       "        vertical-align: middle;\n",
       "    }\n",
       "\n",
       "    .dataframe tbody tr th {\n",
       "        vertical-align: top;\n",
       "    }\n",
       "\n",
       "    .dataframe thead th {\n",
       "        text-align: right;\n",
       "    }\n",
       "</style>\n",
       "<table border=\"1\" class=\"dataframe\">\n",
       "  <thead>\n",
       "    <tr style=\"text-align: right;\">\n",
       "      <th></th>\n",
       "      <th>ph</th>\n",
       "      <th>Hardness</th>\n",
       "      <th>Solids</th>\n",
       "      <th>Chloramines</th>\n",
       "      <th>Sulfate</th>\n",
       "      <th>Conductivity</th>\n",
       "      <th>Organic_carbon</th>\n",
       "      <th>Trihalomethanes</th>\n",
       "      <th>Turbidity</th>\n",
       "      <th>Potability</th>\n",
       "    </tr>\n",
       "  </thead>\n",
       "  <tbody>\n",
       "    <tr>\n",
       "      <th>3021</th>\n",
       "      <td>10.337671</td>\n",
       "      <td>163.276225</td>\n",
       "      <td>21820.295875</td>\n",
       "      <td>7.899521</td>\n",
       "      <td>356.179637</td>\n",
       "      <td>561.206238</td>\n",
       "      <td>14.116324</td>\n",
       "      <td>56.193061</td>\n",
       "      <td>5.063109</td>\n",
       "      <td>0</td>\n",
       "    </tr>\n",
       "    <tr>\n",
       "      <th>254</th>\n",
       "      <td>7.174135</td>\n",
       "      <td>203.408935</td>\n",
       "      <td>20401.102461</td>\n",
       "      <td>7.681806</td>\n",
       "      <td>287.085679</td>\n",
       "      <td>315.549900</td>\n",
       "      <td>14.533510</td>\n",
       "      <td>74.405616</td>\n",
       "      <td>3.939896</td>\n",
       "      <td>1</td>\n",
       "    </tr>\n",
       "    <tr>\n",
       "      <th>431</th>\n",
       "      <td>7.240272</td>\n",
       "      <td>213.423139</td>\n",
       "      <td>23432.962694</td>\n",
       "      <td>5.927868</td>\n",
       "      <td>328.359206</td>\n",
       "      <td>325.387708</td>\n",
       "      <td>14.033553</td>\n",
       "      <td>60.571081</td>\n",
       "      <td>3.832597</td>\n",
       "      <td>0</td>\n",
       "    </tr>\n",
       "    <tr>\n",
       "      <th>2427</th>\n",
       "      <td>8.025220</td>\n",
       "      <td>213.519722</td>\n",
       "      <td>15457.498662</td>\n",
       "      <td>7.669540</td>\n",
       "      <td>318.114395</td>\n",
       "      <td>376.314446</td>\n",
       "      <td>9.422745</td>\n",
       "      <td>55.459551</td>\n",
       "      <td>4.134943</td>\n",
       "      <td>1</td>\n",
       "    </tr>\n",
       "    <tr>\n",
       "      <th>2803</th>\n",
       "      <td>7.017295</td>\n",
       "      <td>170.132446</td>\n",
       "      <td>20169.344252</td>\n",
       "      <td>5.216280</td>\n",
       "      <td>378.226971</td>\n",
       "      <td>512.768439</td>\n",
       "      <td>15.505992</td>\n",
       "      <td>64.624944</td>\n",
       "      <td>4.899611</td>\n",
       "      <td>1</td>\n",
       "    </tr>\n",
       "    <tr>\n",
       "      <th>...</th>\n",
       "      <td>...</td>\n",
       "      <td>...</td>\n",
       "      <td>...</td>\n",
       "      <td>...</td>\n",
       "      <td>...</td>\n",
       "      <td>...</td>\n",
       "      <td>...</td>\n",
       "      <td>...</td>\n",
       "      <td>...</td>\n",
       "      <td>...</td>\n",
       "    </tr>\n",
       "    <tr>\n",
       "      <th>1216</th>\n",
       "      <td>6.635894</td>\n",
       "      <td>194.049780</td>\n",
       "      <td>20339.016870</td>\n",
       "      <td>6.032864</td>\n",
       "      <td>307.954902</td>\n",
       "      <td>412.582989</td>\n",
       "      <td>15.894674</td>\n",
       "      <td>57.643457</td>\n",
       "      <td>4.523237</td>\n",
       "      <td>1</td>\n",
       "    </tr>\n",
       "    <tr>\n",
       "      <th>1624</th>\n",
       "      <td>6.975209</td>\n",
       "      <td>175.421039</td>\n",
       "      <td>35701.155320</td>\n",
       "      <td>5.494254</td>\n",
       "      <td>290.052802</td>\n",
       "      <td>401.058802</td>\n",
       "      <td>10.285283</td>\n",
       "      <td>66.420579</td>\n",
       "      <td>5.256484</td>\n",
       "      <td>1</td>\n",
       "    </tr>\n",
       "    <tr>\n",
       "      <th>715</th>\n",
       "      <td>NaN</td>\n",
       "      <td>193.410141</td>\n",
       "      <td>14472.391549</td>\n",
       "      <td>5.640672</td>\n",
       "      <td>322.674462</td>\n",
       "      <td>431.457337</td>\n",
       "      <td>12.721922</td>\n",
       "      <td>92.758852</td>\n",
       "      <td>4.414819</td>\n",
       "      <td>1</td>\n",
       "    </tr>\n",
       "    <tr>\n",
       "      <th>2333</th>\n",
       "      <td>NaN</td>\n",
       "      <td>205.666016</td>\n",
       "      <td>27044.959810</td>\n",
       "      <td>4.033934</td>\n",
       "      <td>298.213816</td>\n",
       "      <td>515.754936</td>\n",
       "      <td>9.057549</td>\n",
       "      <td>48.029690</td>\n",
       "      <td>4.067414</td>\n",
       "      <td>1</td>\n",
       "    </tr>\n",
       "    <tr>\n",
       "      <th>1042</th>\n",
       "      <td>5.499489</td>\n",
       "      <td>230.308775</td>\n",
       "      <td>13902.968646</td>\n",
       "      <td>9.619575</td>\n",
       "      <td>352.084333</td>\n",
       "      <td>442.167006</td>\n",
       "      <td>14.740787</td>\n",
       "      <td>NaN</td>\n",
       "      <td>5.846827</td>\n",
       "      <td>0</td>\n",
       "    </tr>\n",
       "  </tbody>\n",
       "</table>\n",
       "<p>3196 rows × 10 columns</p>\n",
       "</div>"
      ],
      "text/plain": [
       "             ph    Hardness        Solids  Chloramines     Sulfate  \\\n",
       "3021  10.337671  163.276225  21820.295875     7.899521  356.179637   \n",
       "254    7.174135  203.408935  20401.102461     7.681806  287.085679   \n",
       "431    7.240272  213.423139  23432.962694     5.927868  328.359206   \n",
       "2427   8.025220  213.519722  15457.498662     7.669540  318.114395   \n",
       "2803   7.017295  170.132446  20169.344252     5.216280  378.226971   \n",
       "...         ...         ...           ...          ...         ...   \n",
       "1216   6.635894  194.049780  20339.016870     6.032864  307.954902   \n",
       "1624   6.975209  175.421039  35701.155320     5.494254  290.052802   \n",
       "715         NaN  193.410141  14472.391549     5.640672  322.674462   \n",
       "2333        NaN  205.666016  27044.959810     4.033934  298.213816   \n",
       "1042   5.499489  230.308775  13902.968646     9.619575  352.084333   \n",
       "\n",
       "      Conductivity  Organic_carbon  Trihalomethanes  Turbidity Potability  \n",
       "3021    561.206238       14.116324        56.193061   5.063109          0  \n",
       "254     315.549900       14.533510        74.405616   3.939896          1  \n",
       "431     325.387708       14.033553        60.571081   3.832597          0  \n",
       "2427    376.314446        9.422745        55.459551   4.134943          1  \n",
       "2803    512.768439       15.505992        64.624944   4.899611          1  \n",
       "...            ...             ...              ...        ...        ...  \n",
       "1216    412.582989       15.894674        57.643457   4.523237          1  \n",
       "1624    401.058802       10.285283        66.420579   5.256484          1  \n",
       "715     431.457337       12.721922        92.758852   4.414819          1  \n",
       "2333    515.754936        9.057549        48.029690   4.067414          1  \n",
       "1042    442.167006       14.740787              NaN   5.846827          0  \n",
       "\n",
       "[3196 rows x 10 columns]"
      ]
     },
     "execution_count": 8,
     "metadata": {},
     "output_type": "execute_result"
    },
    {
     "data": {
      "image/png": "[encoded data removed]",
      "text/plain": [
       "<Figure size 432x288 with 1 Axes>"
      ]
     },
     "metadata": {
      "needs_background": "light"
     },
     "output_type": "display_data"
    }
   ],
   "source": [
    "from sklearn.model_selection import StratifiedShuffleSplit\n",
    "from sklearn.utils import resample\n",
    "from sklearn.utils import shuffle\n",
    "\n",
    "# Data stratification\n",
    "split = StratifiedShuffleSplit(n_splits = 1, test_size = 0.2, random_state = 42)\n",
    "for train_index, test_index in split.split(water_quality, water_quality[\"Potability\"]):\n",
    "    strat_train_set = water_quality.loc[train_index]\n",
    "    strat_test_set = water_quality.loc[test_index]\n",
    "    \n",
    "# Upsampling of data\n",
    "portable = strat_train_set.loc[strat_train_set[\"Potability\"] == 1]\n",
    "not_portable  = strat_train_set.loc[strat_train_set[\"Potability\"] == 0]\n",
    "portable = resample(portable, replace = True, n_samples = len(not_portable), random_state = 42)\n",
    "strat_train_set = pd.concat([portable, not_portable])\n",
    "strat_train_set = shuffle(strat_train_set, random_state = 42)\n",
    "\n",
    "strat_train_set[\"Potability\"].hist()\n",
    "plt.title(\"Training data: Potability\")\n",
    "plt.xlabel(\"Value\")\n",
    "plt.ylabel(\"Count\")\n",
    "strat_train_set"
   ]
  },
  {
   "cell_type": "code",
   "execution_count": 9,
   "metadata": {
    "execution": {
     "iopub.execute_input": "2021-08-05T09:46:09.590389Z",
     "iopub.status.busy": "2021-08-05T09:46:09.589994Z",
     "iopub.status.idle": "2021-08-05T09:46:09.599412Z",
     "shell.execute_reply": "2021-08-05T09:46:09.598279Z",
     "shell.execute_reply.started": "2021-08-05T09:46:09.590351Z"
    }
   },
   "outputs": [
    {
     "data": {
      "text/plain": [
       "0    0.609756\n",
       "1    0.390244\n",
       "Name: Potability, dtype: float64"
      ]
     },
     "execution_count": 9,
     "metadata": {},
     "output_type": "execute_result"
    }
   ],
   "source": [
    "strat_test_set[\"Potability\"].value_counts()/len(strat_test_set)"
   ]
  },
  {
   "cell_type": "code",
   "execution_count": 10,
   "metadata": {
    "execution": {
     "iopub.execute_input": "2021-08-05T09:46:09.602043Z",
     "iopub.status.busy": "2021-08-05T09:46:09.601651Z",
     "iopub.status.idle": "2021-08-05T09:46:09.613888Z",
     "shell.execute_reply": "2021-08-05T09:46:09.612776Z",
     "shell.execute_reply.started": "2021-08-05T09:46:09.602007Z"
    }
   },
   "outputs": [
    {
     "data": {
      "text/plain": [
       "0    0.60989\n",
       "1    0.39011\n",
       "Name: Potability, dtype: float64"
      ]
     },
     "execution_count": 10,
     "metadata": {},
     "output_type": "execute_result"
    }
   ],
   "source": [
    "water_quality[\"Potability\"].value_counts()/len(water_quality)"
   ]
  },
  {
   "cell_type": "markdown",
   "metadata": {},
   "source": [
    "Training was initially stratified then upsampled to fix unbalanced Potability data entries. Test data set was not upsampled to preserve data quality. A 60/40 split for non-potable vs potable entries exists in the data. "
   ]
  },
  {
   "cell_type": "markdown",
   "metadata": {},
   "source": [
    "## Transformation pipeline\n",
    "\n",
    "1. Multiple missing value imputation.\n",
    "2. Standard scaling of data.\n",
    "\n",
    "Transformation pipeline is created to standardise data transformations for all data being used to train the models. Specifically, the data will be fitted according to training data set values. Fitted information will be used to transform testing data set in order to compared performace between models."
   ]
  },
  {
   "cell_type": "code",
   "execution_count": 11,
   "metadata": {
    "execution": {
     "iopub.execute_input": "2021-08-05T09:46:09.615604Z",
     "iopub.status.busy": "2021-08-05T09:46:09.615282Z",
     "iopub.status.idle": "2021-08-05T09:46:09.648737Z",
     "shell.execute_reply": "2021-08-05T09:46:09.64766Z",
     "shell.execute_reply.started": "2021-08-05T09:46:09.615575Z"
    }
   },
   "outputs": [
    {
     "data": {
      "text/html": [
       "<div>\n",
       "<style scoped>\n",
       "    .dataframe tbody tr th:only-of-type {\n",
       "        vertical-align: middle;\n",
       "    }\n",
       "\n",
       "    .dataframe tbody tr th {\n",
       "        vertical-align: top;\n",
       "    }\n",
       "\n",
       "    .dataframe thead th {\n",
       "        text-align: right;\n",
       "    }\n",
       "</style>\n",
       "<table border=\"1\" class=\"dataframe\">\n",
       "  <thead>\n",
       "    <tr style=\"text-align: right;\">\n",
       "      <th></th>\n",
       "      <th>0</th>\n",
       "      <th>1</th>\n",
       "      <th>2</th>\n",
       "      <th>3</th>\n",
       "      <th>4</th>\n",
       "      <th>5</th>\n",
       "      <th>6</th>\n",
       "      <th>7</th>\n",
       "      <th>8</th>\n",
       "    </tr>\n",
       "  </thead>\n",
       "  <tbody>\n",
       "    <tr>\n",
       "      <th>0</th>\n",
       "      <td>2.220299</td>\n",
       "      <td>-0.984496</td>\n",
       "      <td>-0.030789</td>\n",
       "      <td>0.472445</td>\n",
       "      <td>0.577340</td>\n",
       "      <td>1.629157</td>\n",
       "      <td>-0.056008</td>\n",
       "      <td>-6.412752e-01</td>\n",
       "      <td>1.381348</td>\n",
       "    </tr>\n",
       "    <tr>\n",
       "      <th>1</th>\n",
       "      <td>0.048951</td>\n",
       "      <td>0.211347</td>\n",
       "      <td>-0.191451</td>\n",
       "      <td>0.339582</td>\n",
       "      <td>-1.266343</td>\n",
       "      <td>-1.408497</td>\n",
       "      <td>0.070100</td>\n",
       "      <td>5.241846e-01</td>\n",
       "      <td>-0.048619</td>\n",
       "    </tr>\n",
       "    <tr>\n",
       "      <th>2</th>\n",
       "      <td>0.094345</td>\n",
       "      <td>0.509742</td>\n",
       "      <td>0.151774</td>\n",
       "      <td>-0.730785</td>\n",
       "      <td>-0.165012</td>\n",
       "      <td>-1.286848</td>\n",
       "      <td>-0.081029</td>\n",
       "      <td>-3.611165e-01</td>\n",
       "      <td>-0.185221</td>\n",
       "    </tr>\n",
       "    <tr>\n",
       "      <th>3</th>\n",
       "      <td>0.633108</td>\n",
       "      <td>0.512620</td>\n",
       "      <td>-0.751096</td>\n",
       "      <td>0.332096</td>\n",
       "      <td>-0.438382</td>\n",
       "      <td>-0.657116</td>\n",
       "      <td>-1.474803</td>\n",
       "      <td>-6.882141e-01</td>\n",
       "      <td>0.199696</td>\n",
       "    </tr>\n",
       "    <tr>\n",
       "      <th>4</th>\n",
       "      <td>-0.058699</td>\n",
       "      <td>-0.780200</td>\n",
       "      <td>-0.217687</td>\n",
       "      <td>-1.165042</td>\n",
       "      <td>1.165645</td>\n",
       "      <td>1.030201</td>\n",
       "      <td>0.364066</td>\n",
       "      <td>-1.017012e-01</td>\n",
       "      <td>1.173199</td>\n",
       "    </tr>\n",
       "    <tr>\n",
       "      <th>...</th>\n",
       "      <td>...</td>\n",
       "      <td>...</td>\n",
       "      <td>...</td>\n",
       "      <td>...</td>\n",
       "      <td>...</td>\n",
       "      <td>...</td>\n",
       "      <td>...</td>\n",
       "      <td>...</td>\n",
       "      <td>...</td>\n",
       "    </tr>\n",
       "    <tr>\n",
       "      <th>3191</th>\n",
       "      <td>-0.320481</td>\n",
       "      <td>-0.067530</td>\n",
       "      <td>-0.198479</td>\n",
       "      <td>-0.666710</td>\n",
       "      <td>-0.709475</td>\n",
       "      <td>-0.208638</td>\n",
       "      <td>0.481559</td>\n",
       "      <td>-5.484613e-01</td>\n",
       "      <td>0.694035</td>\n",
       "    </tr>\n",
       "    <tr>\n",
       "      <th>3192</th>\n",
       "      <td>-0.087586</td>\n",
       "      <td>-0.622614</td>\n",
       "      <td>1.540608</td>\n",
       "      <td>-0.995404</td>\n",
       "      <td>-1.187169</td>\n",
       "      <td>-0.351140</td>\n",
       "      <td>-1.214071</td>\n",
       "      <td>1.320522e-02</td>\n",
       "      <td>1.627534</td>\n",
       "    </tr>\n",
       "    <tr>\n",
       "      <th>3193</th>\n",
       "      <td>0.000000</td>\n",
       "      <td>-0.086589</td>\n",
       "      <td>-0.862617</td>\n",
       "      <td>-0.906050</td>\n",
       "      <td>-0.316702</td>\n",
       "      <td>0.024752</td>\n",
       "      <td>-0.477514</td>\n",
       "      <td>1.698647e+00</td>\n",
       "      <td>0.556008</td>\n",
       "    </tr>\n",
       "    <tr>\n",
       "      <th>3194</th>\n",
       "      <td>0.000000</td>\n",
       "      <td>0.278601</td>\n",
       "      <td>0.560674</td>\n",
       "      <td>-1.886586</td>\n",
       "      <td>-0.969403</td>\n",
       "      <td>1.067130</td>\n",
       "      <td>-1.585196</td>\n",
       "      <td>-1.163667e+00</td>\n",
       "      <td>0.113725</td>\n",
       "    </tr>\n",
       "    <tr>\n",
       "      <th>3195</th>\n",
       "      <td>-1.100472</td>\n",
       "      <td>1.012887</td>\n",
       "      <td>-0.927079</td>\n",
       "      <td>1.522133</td>\n",
       "      <td>0.468062</td>\n",
       "      <td>0.157182</td>\n",
       "      <td>0.132757</td>\n",
       "      <td>-9.093825e-16</td>\n",
       "      <td>2.379102</td>\n",
       "    </tr>\n",
       "  </tbody>\n",
       "</table>\n",
       "<p>3196 rows × 9 columns</p>\n",
       "</div>"
      ],
      "text/plain": [
       "             0         1         2         3         4         5         6  \\\n",
       "0     2.220299 -0.984496 -0.030789  0.472445  0.577340  1.629157 -0.056008   \n",
       "1     0.048951  0.211347 -0.191451  0.339582 -1.266343 -1.408497  0.070100   \n",
       "2     0.094345  0.509742  0.151774 -0.730785 -0.165012 -1.286848 -0.081029   \n",
       "3     0.633108  0.512620 -0.751096  0.332096 -0.438382 -0.657116 -1.474803   \n",
       "4    -0.058699 -0.780200 -0.217687 -1.165042  1.165645  1.030201  0.364066   \n",
       "...        ...       ...       ...       ...       ...       ...       ...   \n",
       "3191 -0.320481 -0.067530 -0.198479 -0.666710 -0.709475 -0.208638  0.481559   \n",
       "3192 -0.087586 -0.622614  1.540608 -0.995404 -1.187169 -0.351140 -1.214071   \n",
       "3193  0.000000 -0.086589 -0.862617 -0.906050 -0.316702  0.024752 -0.477514   \n",
       "3194  0.000000  0.278601  0.560674 -1.886586 -0.969403  1.067130 -1.585196   \n",
       "3195 -1.100472  1.012887 -0.927079  1.522133  0.468062  0.157182  0.132757   \n",
       "\n",
       "                 7         8  \n",
       "0    -6.412752e-01  1.381348  \n",
       "1     5.241846e-01 -0.048619  \n",
       "2    -3.611165e-01 -0.185221  \n",
       "3    -6.882141e-01  0.199696  \n",
       "4    -1.017012e-01  1.173199  \n",
       "...            ...       ...  \n",
       "3191 -5.484613e-01  0.694035  \n",
       "3192  1.320522e-02  1.627534  \n",
       "3193  1.698647e+00  0.556008  \n",
       "3194 -1.163667e+00  0.113725  \n",
       "3195 -9.093825e-16  2.379102  \n",
       "\n",
       "[3196 rows x 9 columns]"
      ]
     },
     "execution_count": 11,
     "metadata": {},
     "output_type": "execute_result"
    }
   ],
   "source": [
    "from sklearn.pipeline import Pipeline\n",
    "from sklearn.preprocessing import StandardScaler\n",
    "from sklearn.impute import SimpleImputer\n",
    "\n",
    "# Create pipeline\n",
    "pipeline = Pipeline([\n",
    "    (\"iterative_imputer\", SimpleImputer(strategy = \"mean\")),\n",
    "    (\"std_scaler\", StandardScaler())\n",
    "])\n",
    "\n",
    "# predictors\n",
    "training_pred = pipeline.fit_transform(strat_train_set.drop(\"Potability\", axis = 1))\n",
    "\n",
    "# explanatory\n",
    "training_labels = strat_train_set[\"Potability\"].values\n",
    "\n",
    "\n",
    "# Fit and transform data through pipeline \n",
    "training_pred = pd.DataFrame(training_pred)\n",
    "training_pred\n"
   ]
  },
  {
   "cell_type": "markdown",
   "metadata": {},
   "source": [
    "# Model Building"
   ]
  },
  {
   "cell_type": "markdown",
   "metadata": {},
   "source": [
    "## Logistic Regression"
   ]
  },
  {
   "cell_type": "code",
   "execution_count": 12,
   "metadata": {
    "execution": {
     "iopub.execute_input": "2021-08-05T09:46:09.651102Z",
     "iopub.status.busy": "2021-08-05T09:46:09.650763Z",
     "iopub.status.idle": "2021-08-05T09:46:09.755054Z",
     "shell.execute_reply": "2021-08-05T09:46:09.753846Z",
     "shell.execute_reply.started": "2021-08-05T09:46:09.651072Z"
    }
   },
   "outputs": [
    {
     "name": "stdout",
     "output_type": "stream",
     "text": [
      "Scores: [0.55       0.496875   0.50625    0.496875   0.528125   0.496875\n",
      " 0.48902821 0.53291536 0.46394984 0.53918495]\n",
      "Means: 0.5100078369905956\n",
      "Standard Deviation: 0.02529166343250258\n"
     ]
    }
   ],
   "source": [
    "from sklearn.linear_model import LogisticRegression\n",
    "from sklearn.model_selection import cross_val_score\n",
    "import numpy as np\n",
    "from sklearn import metrics\n",
    "\n",
    "def display_scores(scores):\n",
    "    print(\"Scores:\", scores)\n",
    "    print(\"Means:\", scores.mean())\n",
    "    print(\"Standard Deviation:\", scores.std())\n",
    "\n",
    "logistic_model = LogisticRegression(solver = \"liblinear\", random_state = 42)\n",
    "logistic_model.fit(training_pred, training_labels)\n",
    "log_scores = cross_val_score(logistic_model, \n",
    "                             training_pred, \n",
    "                             training_labels,\n",
    "                             scoring = \"accuracy\", cv = 10)\n",
    "display_scores(log_scores)"
   ]
  },
  {
   "cell_type": "markdown",
   "metadata": {},
   "source": [
    "# Decision Trees"
   ]
  },
  {
   "cell_type": "code",
   "execution_count": 13,
   "metadata": {
    "execution": {
     "iopub.execute_input": "2021-08-05T09:46:09.757208Z",
     "iopub.status.busy": "2021-08-05T09:46:09.75676Z",
     "iopub.status.idle": "2021-08-05T09:46:10.193797Z",
     "shell.execute_reply": "2021-08-05T09:46:10.192841Z",
     "shell.execute_reply.started": "2021-08-05T09:46:09.757166Z"
    }
   },
   "outputs": [
    {
     "name": "stdout",
     "output_type": "stream",
     "text": [
      "Scores: [0.775      0.778125   0.80625    0.825      0.784375   0.75625\n",
      " 0.79623824 0.79623824 0.76489028 0.7460815 ]\n",
      "Means: 0.7828448275862069\n",
      "Standard Deviation: 0.02269577026050326\n"
     ]
    }
   ],
   "source": [
    "from sklearn.tree import DecisionTreeClassifier\n",
    "\n",
    "dt = DecisionTreeClassifier(random_state = 42)\n",
    "dt.fit(training_pred, training_labels)\n",
    "dt_scores = cross_val_score(dt, \n",
    "                           training_pred,\n",
    "                           training_labels,\n",
    "                           scoring = \"accuracy\", cv = 10)\n",
    "display_scores(dt_scores)"
   ]
  },
  {
   "cell_type": "markdown",
   "metadata": {},
   "source": [
    "# Randomforest classifier"
   ]
  },
  {
   "cell_type": "code",
   "execution_count": 32,
   "metadata": {
    "execution": {
     "iopub.execute_input": "2021-08-05T09:46:10.195808Z",
     "iopub.status.busy": "2021-08-05T09:46:10.195359Z",
     "iopub.status.idle": "2021-08-05T09:46:15.722313Z",
     "shell.execute_reply": "2021-08-05T09:46:15.721197Z",
     "shell.execute_reply.started": "2021-08-05T09:46:10.195764Z"
    }
   },
   "outputs": [
    {
     "name": "stdout",
     "output_type": "stream",
     "text": [
      "Scores: [0.840625   0.85446009 0.84037559 0.83881064 0.85446009]\n",
      "Means: 0.8457462832550862\n",
      "Standard Deviation: 0.007141933051891663\n"
     ]
    }
   ],
   "source": [
    "from sklearn.ensemble import RandomForestClassifier\n",
    "\n",
    "rf_untuned = RandomForestClassifier(random_state = 42)\n",
    "rf_untuned.fit(training_pred, training_labels)\n",
    "rf_scores = cross_val_score(rf_untuned, training_pred, training_labels,\n",
    "                               scoring = \"accuracy\")\n",
    "display_scores(rf_scores)"
   ]
  },
  {
   "cell_type": "code",
   "execution_count": 33,
   "metadata": {
    "execution": {
     "iopub.execute_input": "2021-08-05T09:46:15.724121Z",
     "iopub.status.busy": "2021-08-05T09:46:15.723706Z",
     "iopub.status.idle": "2021-08-05T09:46:15.736157Z",
     "shell.execute_reply": "2021-08-05T09:46:15.735049Z",
     "shell.execute_reply.started": "2021-08-05T09:46:15.724079Z"
    }
   },
   "outputs": [
    {
     "data": {
      "text/html": [
       "<div>\n",
       "<style scoped>\n",
       "    .dataframe tbody tr th:only-of-type {\n",
       "        vertical-align: middle;\n",
       "    }\n",
       "\n",
       "    .dataframe tbody tr th {\n",
       "        vertical-align: top;\n",
       "    }\n",
       "\n",
       "    .dataframe thead th {\n",
       "        text-align: right;\n",
       "    }\n",
       "</style>\n",
       "<table border=\"1\" class=\"dataframe\">\n",
       "  <thead>\n",
       "    <tr style=\"text-align: right;\">\n",
       "      <th></th>\n",
       "      <th>mean_cv_accuracy</th>\n",
       "    </tr>\n",
       "  </thead>\n",
       "  <tbody>\n",
       "    <tr>\n",
       "      <th>log</th>\n",
       "      <td>0.510008</td>\n",
       "    </tr>\n",
       "    <tr>\n",
       "      <th>dt</th>\n",
       "      <td>0.782845</td>\n",
       "    </tr>\n",
       "    <tr>\n",
       "      <th>rf</th>\n",
       "      <td>0.845746</td>\n",
       "    </tr>\n",
       "  </tbody>\n",
       "</table>\n",
       "</div>"
      ],
      "text/plain": [
       "     mean_cv_accuracy\n",
       "log          0.510008\n",
       "dt           0.782845\n",
       "rf           0.845746"
      ]
     },
     "execution_count": 33,
     "metadata": {},
     "output_type": "execute_result"
    }
   ],
   "source": [
    "model_scores = {\"mean_cv_accuracy\":[np.mean(log_scores),\n",
    "                               np.mean(dt_scores),\n",
    "                               np.mean(rf_scores)]}\n",
    "model_scores = pd.DataFrame(data = model_scores, index = [\"log\", \"dt\", \"rf\"])\n",
    "model_scores"
   ]
  },
  {
   "cell_type": "markdown",
   "metadata": {},
   "source": [
    "## Random forest hyperparameter tuning by Randomised Search\n",
    "\n",
    "The following lines of code were adapted from https://towardsdatascience.com/hyperparameter-tuning-the-random-forest-in-python-using-scikit-learn-28d2aa77dd74"
   ]
  },
  {
   "cell_type": "code",
   "execution_count": 16,
   "metadata": {
    "execution": {
     "iopub.execute_input": "2021-08-05T09:46:15.738094Z",
     "iopub.status.busy": "2021-08-05T09:46:15.737658Z",
     "iopub.status.idle": "2021-08-05T10:13:52.98042Z",
     "shell.execute_reply": "2021-08-05T10:13:52.979207Z",
     "shell.execute_reply.started": "2021-08-05T09:46:15.73805Z"
    }
   },
   "outputs": [
    {
     "name": "stdout",
     "output_type": "stream",
     "text": [
      "Fitting 3 folds for each of 100 candidates, totalling 300 fits\n"
     ]
    },
    {
     "data": {
      "text/plain": [
       "RandomizedSearchCV(cv=3, estimator=RandomForestClassifier(random_state=42),\n",
       "                   n_iter=100, n_jobs=-1,\n",
       "                   param_distributions={'bootstrap': [True, False],\n",
       "                                        'criterion': ['gini', 'entropy'],\n",
       "                                        'max_depth': [10, 20, 30, 40, 50, 60,\n",
       "                                                      70, 80, 90, 100, 110,\n",
       "                                                      None],\n",
       "                                        'max_features': ['auto', 'sqrt'],\n",
       "                                        'min_samples_leaf': [1, 2, 4],\n",
       "                                        'min_samples_split': [2, 5, 10],\n",
       "                                        'n_estimators': [200, 400, 600, 800,\n",
       "                                                         1000, 1200, 1400, 1600,\n",
       "                                                         1800, 2000],\n",
       "                                        'random_state': [42]},\n",
       "                   random_state=42, verbose=2)"
      ]
     },
     "execution_count": 16,
     "metadata": {},
     "output_type": "execute_result"
    }
   ],
   "source": [
    "# The following lines of code were adapted from \n",
    "\n",
    "from sklearn.model_selection import RandomizedSearchCV\n",
    "\n",
    "# Maximum number of levels in tree\n",
    "max_depth = [int(x) for x in np.linspace(10, 110, num = 11)]\n",
    "max_depth.append(None)\n",
    "\n",
    "# Create the random grid\n",
    "random_grid = {'n_estimators': [int(x) for x in np.linspace(start = 200, stop = 2000, num = 10)],\n",
    "               'criterion': ['gini', 'entropy'],\n",
    "               'max_features': ['auto', 'sqrt'],\n",
    "               'max_depth': max_depth,\n",
    "               'min_samples_split': [2, 5, 10],\n",
    "               'min_samples_leaf': [1, 2, 4],\n",
    "               'bootstrap': [True, False],\n",
    "               'random_state' : [42]}\n",
    "rf = RandomForestClassifier(random_state = 42)\n",
    "rf_random = RandomizedSearchCV(estimator = rf, \n",
    "                               param_distributions = random_grid, \n",
    "                               n_iter = 100, cv = 3, \n",
    "                               verbose=2, n_jobs = -1, random_state = 42)\n",
    "rf_random.fit(training_pred, training_labels)"
   ]
  },
  {
   "cell_type": "code",
   "execution_count": 18,
   "metadata": {
    "execution": {
     "iopub.execute_input": "2021-08-05T08:42:49.232783Z",
     "iopub.status.busy": "2021-08-05T08:42:49.232487Z",
     "iopub.status.idle": "2021-08-05T08:42:49.239411Z",
     "shell.execute_reply": "2021-08-05T08:42:49.238251Z",
     "shell.execute_reply.started": "2021-08-05T08:42:49.232752Z"
    }
   },
   "outputs": [
    {
     "data": {
      "text/plain": [
       "{'random_state': 42,\n",
       " 'n_estimators': 1800,\n",
       " 'min_samples_split': 5,\n",
       " 'min_samples_leaf': 1,\n",
       " 'max_features': 'sqrt',\n",
       " 'max_depth': 70,\n",
       " 'criterion': 'gini',\n",
       " 'bootstrap': False}"
      ]
     },
     "execution_count": 18,
     "metadata": {},
     "output_type": "execute_result"
    }
   ],
   "source": [
    "rf_random.best_params_"
   ]
  },
  {
   "cell_type": "markdown",
   "metadata": {},
   "source": [
    "## Random forest hyperparameter tuning by Grid Search\n",
    "\n",
    "Randomised search resulted in parameters where:\n",
    "\n",
    "* 'n_estimators': 1800,\n",
    "* 'min_samples_split': 5,\n",
    "* 'min_samples_leaf': 1,\n",
    "* 'max_features': 'sqrt',\n",
    "* 'max_depth': 70,\n",
    "* 'criterion': 'gini',\n",
    "* 'bootstrap': False\n",
    " \n",
    "Best parameters from randomised search will feed a more intensive GridSearch for the best performing model ranging at the values defined in the randomised searched parameters."
   ]
  },
  {
   "cell_type": "code",
   "execution_count": 22,
   "metadata": {
    "execution": {
     "iopub.execute_input": "2021-08-05T08:42:49.251812Z",
     "iopub.status.busy": "2021-08-05T08:42:49.251392Z",
     "iopub.status.idle": "2021-08-05T09:17:42.828804Z",
     "shell.execute_reply": "2021-08-05T09:17:42.827872Z",
     "shell.execute_reply.started": "2021-08-05T08:42:49.251782Z"
    }
   },
   "outputs": [
    {
     "name": "stdout",
     "output_type": "stream",
     "text": [
      "Fitting 5 folds for each of 25 candidates, totalling 125 fits\n"
     ]
    },
    {
     "data": {
      "text/plain": [
       "{'bootstrap': False,\n",
       " 'ccp_alpha': 0.0,\n",
       " 'class_weight': None,\n",
       " 'criterion': 'gini',\n",
       " 'max_depth': 50,\n",
       " 'max_features': 'sqrt',\n",
       " 'max_leaf_nodes': None,\n",
       " 'max_samples': None,\n",
       " 'min_impurity_decrease': 0.0,\n",
       " 'min_impurity_split': None,\n",
       " 'min_samples_leaf': 1,\n",
       " 'min_samples_split': 5,\n",
       " 'min_weight_fraction_leaf': 0.0,\n",
       " 'n_estimators': 1600,\n",
       " 'n_jobs': None,\n",
       " 'oob_score': False,\n",
       " 'random_state': 42,\n",
       " 'verbose': 0,\n",
       " 'warm_start': False}"
      ]
     },
     "execution_count": 22,
     "metadata": {},
     "output_type": "execute_result"
    }
   ],
   "source": [
    "# Gridsearch for best parameter.\n",
    "# import joblib\n",
    "\n",
    "param_1 = {\n",
    "    \"n_estimators\" : [int(x) for x in np.linspace(start = 1600, stop = 2000, num = 5)],\n",
    "    \"min_samples_split\" : [5],\n",
    "    \"min_samples_leaf\" : [1],\n",
    "    \"max_features\" : ['sqrt'],\n",
    "    \"max_depth\" : [int(x) for x in np.linspace(start = 50, stop = 100, num = 5)],\n",
    "    \"criterion\" : ['gini'],\n",
    "    \"bootstrap\" : [False],\n",
    "    \"random_state\" : [42]\n",
    "}\n",
    "\n",
    "param_grid = [param_1]\n",
    "rf = RandomForestClassifier(random_state = 42)\n",
    "rf_grid_search = GridSearchCV(rf, param_grid, cv = 5, scoring = \"accuracy\",\n",
    "                             return_train_score = True, n_jobs = -1, verbose = 2)\n",
    "rf_grid_search.fit(training_pred, training_labels)\n",
    "\n",
    "rf_grid_search.best_estimator_.get_params()\n",
    "\n",
    "# Export best estimator into pkl file\n",
    "# joblib.dump(rf_grid_search.best_estimator_, \"random_forest_best_estimator.pkl\")"
   ]
  },
  {
   "cell_type": "code",
   "execution_count": 26,
   "metadata": {},
   "outputs": [
    {
     "name": "stdout",
     "output_type": "stream",
     "text": [
      "Fitting 5 folds for each of 25 candidates, totalling 125 fits\n"
     ]
    },
    {
     "data": {
      "text/plain": [
       "{'bootstrap': False,\n",
       " 'ccp_alpha': 0.0,\n",
       " 'class_weight': None,\n",
       " 'criterion': 'gini',\n",
       " 'max_depth': 48,\n",
       " 'max_features': 'sqrt',\n",
       " 'max_leaf_nodes': None,\n",
       " 'max_samples': None,\n",
       " 'min_impurity_decrease': 0.0,\n",
       " 'min_impurity_split': None,\n",
       " 'min_samples_leaf': 1,\n",
       " 'min_samples_split': 5,\n",
       " 'min_weight_fraction_leaf': 0.0,\n",
       " 'n_estimators': 1375,\n",
       " 'n_jobs': None,\n",
       " 'oob_score': False,\n",
       " 'random_state': 42,\n",
       " 'verbose': 0,\n",
       " 'warm_start': False}"
      ]
     },
     "execution_count": 26,
     "metadata": {},
     "output_type": "execute_result"
    }
   ],
   "source": [
    "# Gridsearch for best parameter.\n",
    "# import joblib\n",
    "\n",
    "param_2 = {\n",
    "    \"n_estimators\" : [int(x) for x in np.linspace(start = 1300, stop = 1600, num = 5)],\n",
    "    \"min_samples_split\" : [5],\n",
    "    \"min_samples_leaf\" : [1],\n",
    "    \"max_features\" : ['sqrt'],\n",
    "    \"max_depth\" : [int(x) for x in np.linspace(start = 30, stop = 55, num = 5)],\n",
    "    \"criterion\" : ['gini'],\n",
    "    \"bootstrap\" : [False],\n",
    "    \"random_state\" : [42]\n",
    "}\n",
    "\n",
    "param_grid = [param_2]\n",
    "rf = RandomForestClassifier(random_state = 42)\n",
    "rf_grid_search = GridSearchCV(rf, param_grid, cv = 5, scoring = \"accuracy\",\n",
    "                             return_train_score = True, n_jobs = -1, verbose = 2)\n",
    "rf_grid_search.fit(training_pred, training_labels)\n",
    "\n",
    "rf_grid_search.best_estimator_.get_params()\n",
    "\n",
    "# Export best estimator into pkl file\n",
    "# joblib.dump(rf_grid_search.best_estimator_, \"random_forest_best_estimator.pkl\")"
   ]
  },
  {
   "cell_type": "markdown",
   "metadata": {},
   "source": [
    "First grid search resulted in an `n_estimator` of 700, which is a value that is on the limit of `param_2`. Therefore param_3 will widen the range for `n_estimator`."
   ]
  },
  {
   "cell_type": "code",
   "execution_count": 27,
   "metadata": {},
   "outputs": [
    {
     "name": "stdout",
     "output_type": "stream",
     "text": [
      "Scores: [0.8515625  0.87010955 0.86384977 0.8513302  0.85289515]\n",
      "Means: 0.8579494327073552\n",
      "Standard Deviation: 0.007652910245538512\n"
     ]
    }
   ],
   "source": [
    "rf_best = rf_grid_search.best_estimator_\n",
    "rf_best.fit(training_pred, training_labels)\n",
    "forest_scores = cross_val_score(rf_best, training_pred, \n",
    "                                training_labels,\n",
    "                               scoring = \"accuracy\")\n",
    "display_scores(forest_scores)"
   ]
  },
  {
   "cell_type": "code",
   "execution_count": 34,
   "metadata": {},
   "outputs": [
    {
     "data": {
      "image/png": "[encoded data removed]",
      "text/plain": [
       "<Figure size 432x288 with 1 Axes>"
      ]
     },
     "metadata": {
      "needs_background": "light"
     },
     "output_type": "display_data"
    }
   ],
   "source": [
    "test_features = pipeline.fit_transform(strat_test_set.drop(\"Potability\", axis = 1))\n",
    "test_labels = strat_test_set.loc[:,\"Potability\"]\n",
    "\n",
    "model_list = {\"DecisionTree\":dt,\n",
    "              \"Log Reg\":logistic_model,\n",
    "             \"RF\": rf_untuned,\n",
    "             \"Random\": rf_best}\n",
    "\n",
    "# Function to create ROC plot of multiple models.\n",
    "def plot_multi_roc(model, features, labels):\n",
    "    \n",
    "    from sklearn.metrics import roc_curve, roc_auc_score\n",
    "    from matplotlib import pyplot as plt\n",
    "    \n",
    "    if type(model) != dict:\n",
    "        raise NameError(\"Not Valid Dict\")\n",
    "        \n",
    "    for key in model_list:\n",
    "        model = model_list[key]\n",
    "        predictions = model.predict_proba(features)[:,1]\n",
    "        auc = roc_auc_score(labels, predictions)\n",
    "        fig_label = \"%s AUC=%.3f\" % (key, auc)\n",
    "        fpr, tpr, threshld = roc_curve(labels, predictions)\n",
    "        plt.plot(fpr, tpr, label = fig_label)\n",
    "    \n",
    "    plt.plot([0,1],[0,1], linestyle = '--')\n",
    "    plt.legend()\n",
    "    plt.xlabel(\"False Positive Rate\")\n",
    "    plt.ylabel(\"True Positive Rate\")\n",
    "    \n",
    "plot_multi_roc(model_list, test_features, test_labels)"
   ]
  },
  {
   "cell_type": "code",
   "execution_count": 35,
   "metadata": {},
   "outputs": [
    {
     "name": "stdout",
     "output_type": "stream",
     "text": [
      "True Negative: 371\n",
      "False Positives: 29\n",
      "False Negative: 182\n",
      "True Positives: 74\n",
      "Sensitivity: 0.7184\n",
      "Specificity: 0.6709\n"
     ]
    },
    {
     "data": {
      "image/png": "[encoded data removed]",
      "text/plain": [
       "<Figure size 432x288 with 2 Axes>"
      ]
     },
     "metadata": {
      "needs_background": "light"
     },
     "output_type": "display_data"
    }
   ],
   "source": [
    "def draw_confusion_matrix(model, features, labels, threshold = 0.5):\n",
    "    \n",
    "    from sklearn.metrics import confusion_matrix, ConfusionMatrixDisplay\n",
    "    \n",
    "    predicted_prob = model.predict_proba(features)\n",
    "    predicted_prob = pd.DataFrame(predicted_prob)\n",
    "    predicted_prob[\"model_classification\"] = np.where(predicted_prob.loc[:,1] > threshold, 1, 0)\n",
    "    cm = confusion_matrix(labels, predicted_prob[\"model_classification\"])\n",
    "    disp = ConfusionMatrixDisplay(confusion_matrix = cm,\n",
    "                             display_labels = model.classes_)\n",
    "    \n",
    "    tn, fp, fn, tp = confusion_matrix(labels, \n",
    "                                  predicted_prob[\"model_classification\"]).ravel()\n",
    "    disp.plot()\n",
    "    print(\"True Negative: %s\\nFalse Positives: %s\\nFalse Negative: %s\\nTrue Positives: %s\" %(tn, fp, fn, tp))\n",
    "    print(\"Sensitivity: %.4f\\nSpecificity: %.4f\" %((tp/(tp+fp)),(tn/(tn+fn))))\n",
    "\n",
    "draw_confusion_matrix(rf_best, test_features, test_labels, threshold = 0.5)"
   ]
  },
  {
   "cell_type": "code",
   "execution_count": 36,
   "metadata": {},
   "outputs": [
    {
     "data": {
      "text/plain": [
       "0.6783536585365854"
      ]
     },
     "execution_count": 36,
     "metadata": {},
     "output_type": "execute_result"
    }
   ],
   "source": [
    "from sklearn.metrics import accuracy_score\n",
    "\n",
    "rf_predictions = rf_best.predict(test_features)\n",
    "accuracy = accuracy_score(test_labels, rf_predictions)\n",
    "accuracy"
   ]
  }
 ],
 "metadata": {
  "environment": {
   "name": "tf2-gpu.2-5.m76",
   "type": "gcloud",
   "uri": "gcr.io/deeplearning-platform-release/tf2-gpu.2-5:m76"
  },
  "kernelspec": {
   "display_name": "Python 3",
   "language": "python",
   "name": "python3"
  },
  "language_info": {
   "codemirror_mode": {
    "name": "ipython",
    "version": 3
   },
   "file_extension": ".py",
   "mimetype": "text/x-python",
   "name": "python",
   "nbconvert_exporter": "python",
   "pygments_lexer": "ipython3",
   "version": "3.7.10"
  }
 },
 "nbformat": 4,
 "nbformat_minor": 4
}
